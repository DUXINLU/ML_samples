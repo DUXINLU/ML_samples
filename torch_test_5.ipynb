{
 "cells": [
  {
   "cell_type": "code",
   "execution_count": 8,
   "metadata": {},
   "outputs": [],
   "source": [
    "import torch\n",
    "import torch.nn as nn\n",
    "from torch.utils.data import DataLoader,Dataset"
   ]
  },
  {
   "cell_type": "code",
   "execution_count": 9,
   "metadata": {},
   "outputs": [],
   "source": [
    "input_size=5\n",
    "output_size=2\n",
    "\n",
    "batch_size=30\n",
    "data_size=100"
   ]
  },
  {
   "cell_type": "code",
   "execution_count": 10,
   "metadata": {},
   "outputs": [
    {
     "name": "stdout",
     "output_type": "stream",
     "text": [
      "cuda:0\n"
     ]
    }
   ],
   "source": [
    "device=torch.device(\"cuda:0\" if torch.cuda.is_available() else \"cpu\")\n",
    "print(device)"
   ]
  },
  {
   "cell_type": "code",
   "execution_count": 11,
   "metadata": {},
   "outputs": [],
   "source": [
    "class RandomDataset(Dataset):\n",
    "    def __init__(self,size,length):\n",
    "        self.len=length\n",
    "        self.data=torch.randn(length,size)\n",
    "    def __getitem__(self,index):\n",
    "        return self.data[index]\n",
    "    def __len__(self):\n",
    "        return self.len\n",
    "rand_loader=DataLoader(dataset=RandomDataset(input_size,data_size),batch_size=batch_size,shuffle=True)"
   ]
  },
  {
   "cell_type": "code",
   "execution_count": 15,
   "metadata": {},
   "outputs": [],
   "source": [
    "class Model(nn.Module):\n",
    "    def __init__(self,input_size,output_size):\n",
    "        super(Model,self).__init__()\n",
    "        self.fc=nn.Linear(input_size,output_size)\n",
    "    def forward(self,input):\n",
    "        output=self.fc(input)\n",
    "        print(\"\\tln Model:input size\",input.size(),\"output size\",output.size())\n",
    "        return output"
   ]
  },
  {
   "cell_type": "code",
   "execution_count": 17,
   "metadata": {},
   "outputs": [
    {
     "name": "stdout",
     "output_type": "stream",
     "text": [
      "1  GPUs.\n"
     ]
    },
    {
     "data": {
      "text/plain": [
       "Model(\n",
       "  (fc): Linear(in_features=5, out_features=2, bias=True)\n",
       ")"
      ]
     },
     "execution_count": 17,
     "metadata": {},
     "output_type": "execute_result"
    }
   ],
   "source": [
    "model=Model(input_size,output_size)\n",
    "if torch.cuda.device_count()>0:\n",
    "    print(torch.cuda.device_count(),\" GPUs.\")\n",
    "    mofrl=nn.DataParallel(model)\n",
    "model.to(device)"
   ]
  },
  {
   "cell_type": "code",
   "execution_count": 18,
   "metadata": {},
   "outputs": [
    {
     "name": "stdout",
     "output_type": "stream",
     "text": [
      "\tln Model:input size torch.Size([30, 5]) output size torch.Size([30, 2])\n",
      "Outside:input size torch.Size([30, 5]) output_size: torch.Size([30, 2])\n",
      "\tln Model:input size torch.Size([30, 5]) output size torch.Size([30, 2])\n",
      "Outside:input size torch.Size([30, 5]) output_size: torch.Size([30, 2])\n",
      "\tln Model:input size torch.Size([30, 5]) output size torch.Size([30, 2])\n",
      "Outside:input size torch.Size([30, 5]) output_size: torch.Size([30, 2])\n",
      "\tln Model:input size torch.Size([10, 5]) output size torch.Size([10, 2])\n",
      "Outside:input size torch.Size([10, 5]) output_size: torch.Size([10, 2])\n"
     ]
    }
   ],
   "source": [
    "for data in rand_loader:\n",
    "    input=data.to(device)\n",
    "    output=model(input)\n",
    "    print(\"Outside:input size\",input.size(),\"output_size:\",output.size())"
   ]
  },
  {
   "cell_type": "code",
   "execution_count": null,
   "metadata": {},
   "outputs": [],
   "source": []
  }
 ],
 "metadata": {
  "kernelspec": {
   "display_name": "Python 3",
   "language": "python",
   "name": "python3"
  },
  "language_info": {
   "codemirror_mode": {
    "name": "ipython",
    "version": 3
   },
   "file_extension": ".py",
   "mimetype": "text/x-python",
   "name": "python",
   "nbconvert_exporter": "python",
   "pygments_lexer": "ipython3",
   "version": "3.6.9"
  }
 },
 "nbformat": 4,
 "nbformat_minor": 4
}
